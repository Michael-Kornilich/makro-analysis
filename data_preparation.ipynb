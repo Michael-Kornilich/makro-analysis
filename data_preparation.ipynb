{
 "cells": [
  {
   "cell_type": "code",
   "execution_count": 1,
   "id": "3d904f20-c738-4b18-a4d9-975f4c4f2d5a",
   "metadata": {},
   "outputs": [],
   "source": [
    "import pandas as pd\n",
    "import numpy as np\n",
    "from datetime import date\n",
    "from pathlib import Path"
   ]
  },
  {
   "cell_type": "code",
   "execution_count": 3,
   "id": "6a76f72e-7cbc-4f05-8556-00ecd5ab4d94",
   "metadata": {},
   "outputs": [
    {
     "data": {
      "text/plain": [
       "1948-12-31    0.037500\n",
       "1949-12-31    0.060500\n",
       "1950-12-31    0.052083\n",
       "1951-12-31    0.032833\n",
       "1952-12-31    0.030250\n",
       "                ...   \n",
       "2015-12-31    0.052750\n",
       "2016-12-31    0.048750\n",
       "2017-12-31    0.043417\n",
       "2018-12-31    0.038917\n",
       "2019-12-31    0.036667\n",
       "Freq: YE-DEC, Name: mean_unemployment, Length: 72, dtype: float64"
      ]
     },
     "execution_count": 3,
     "metadata": {},
     "output_type": "execute_result"
    }
   ],
   "source": [
    "# source: https://data.bls.gov/pdq/SurveyOutputServlet\n",
    "# monthly unemployment rate\n",
    "raw_unemployment_data = pd.read_csv(Path(\"raw_data/USUnemployment.csv\"), index_col=\"Year\")\n",
    "\n",
    "first_year = raw_unemployment_data.index[0]\n",
    "last_year = raw_unemployment_data.index[-1]\n",
    "\n",
    "mean_unemployment = pd.Series(\n",
    "    (raw_unemployment_data.mean(axis=\"columns\") / 100).array,\n",
    "    name = \"mean_unemployment\",\n",
    "    index = pd.date_range(start=date(year=first_year,month=12,day=31), end=date(year=last_year,month=12,day=31), freq=\"YE\")\n",
    ")\n",
    "mean_unemployment"
   ]
  },
  {
   "cell_type": "code",
   "execution_count": 4,
   "id": "fb285af4-e071-4439-ba64-6e10bb12e0a8",
   "metadata": {},
   "outputs": [
    {
     "data": {
      "text/plain": [
       "observation_date\n",
       "1913-12-31    0.020408\n",
       "1914-12-31    0.010000\n",
       "1915-12-31    0.019802\n",
       "1916-12-31    0.115385\n",
       "1917-12-31    0.170940\n",
       "                ...   \n",
       "2020-12-31    0.009703\n",
       "2021-12-31    0.065830\n",
       "2022-12-31    0.055661\n",
       "2023-12-31    0.025323\n",
       "2024-12-31    0.022943\n",
       "Freq: YE-DEC, Name: inflation_rate, Length: 112, dtype: float64"
      ]
     },
     "execution_count": 4,
     "metadata": {},
     "output_type": "execute_result"
    }
   ],
   "source": [
    "# source: https://fred.stlouisfed.org/series/CPIAUCNS \n",
    "# monthly CPI\n",
    "raw_inflation_data = pd.read_csv(\n",
    "    Path(\"raw_data/CPIAUCNS.csv\"), \n",
    "    parse_dates=[\"observation_date\"], \n",
    "    date_format=\"%Y-%m-%d\",\n",
    "    index_col=\"observation_date\"\n",
    ").squeeze()\n",
    "\n",
    "\n",
    "inflation_rate = (\n",
    "    raw_inflation_data\n",
    "    .resample(\"YE\")\n",
    "    .apply(lambda x: x.iat[-1] / x.iat[0] - 1)\n",
    ")\n",
    "\n",
    "inflation_rate.name = \"inflation_rate\"\n",
    "inflation_rate"
   ]
  },
  {
   "cell_type": "code",
   "execution_count": 5,
   "id": "f4318afd-8209-4cd2-9071-c47cc9da23cf",
   "metadata": {},
   "outputs": [
    {
     "data": {
      "text/plain": [
       "1914-01-01    0.020408\n",
       "1915-01-01    0.010000\n",
       "1916-01-01    0.019802\n",
       "1917-01-01    0.115385\n",
       "1918-01-01    0.170940\n",
       "                ...   \n",
       "2020-01-01    0.025000\n",
       "2021-01-01    0.030000\n",
       "2022-01-01    0.049000\n",
       "2023-01-01    0.039000\n",
       "2024-01-01    0.029000\n",
       "Freq: YS-JAN, Name: expected_inflation, Length: 111, dtype: float64"
      ]
     },
     "execution_count": 5,
     "metadata": {},
     "output_type": "execute_result"
    }
   ],
   "source": [
    "#The reason why the Phillips-curve was stable up until 1970 are the stable inflation expectations. \n",
    "#Considering that people are neither dump nor blind it is safe to assume that the inflation expectations from 1900 to 1970 were the mean of the inflation in the said time period\n",
    "\n",
    "# https://fred.stlouisfed.org/series/MICH\n",
    "# Median expected price change next 12 months, Surveys of Consumers.\n",
    "raw_inflation_expectations = pd.read_csv(\n",
    "    Path(\"raw_data/michigan_inflation_expectations.csv\"),\n",
    "    parse_dates=[\"observation_date\"],\n",
    "    date_format=\"%Y-%m-%d\",\n",
    "    index_col=\"observation_date\"\n",
    ").squeeze()\n",
    "\n",
    "expected_inflation = pd.Series(\n",
    "    (raw_inflation_expectations / 100), \n",
    "    name=\"expected_inflation\",\n",
    "    index=pd.date_range(start=\"1913-01-01\", end=\"2024-12-31\", freq=\"YS\")\n",
    ")\n",
    "\n",
    "# expected inflation for the current year as a mean of the expectations in the first 3 months of the year\n",
    "expected_inflation = expected_inflation.resample(\"YS\").apply(lambda x: x.loc[x.index.month<4].mean())\n",
    "\n",
    "# TODO: figure out the actual expectations\n",
    "# assumption: the inflation expectation for the next year is the mean inflation in the previous year\n",
    "day = pd.tseries.offsets.DateOffset(1)\n",
    "expected_inflation_before_1978 = pd.Series(inflation_rate.array, inflation_rate.index + day).loc[:\"1977-01-01\"]\n",
    "expected_inflation = expected_inflation.fillna(value=expected_inflation_before_1978).dropna()\n",
    "expected_inflation"
   ]
  },
  {
   "cell_type": "code",
   "execution_count": 144,
   "id": "f48ec415-f8fc-4962-8af7-d3f85561bfd8",
   "metadata": {},
   "outputs": [
    {
     "data": {
      "text/html": [
       "<div>\n",
       "<style scoped>\n",
       "    .dataframe tbody tr th:only-of-type {\n",
       "        vertical-align: middle;\n",
       "    }\n",
       "\n",
       "    .dataframe tbody tr th {\n",
       "        vertical-align: top;\n",
       "    }\n",
       "\n",
       "    .dataframe thead th {\n",
       "        text-align: right;\n",
       "    }\n",
       "</style>\n",
       "<table border=\"1\" class=\"dataframe\">\n",
       "  <thead>\n",
       "    <tr style=\"text-align: right;\">\n",
       "      <th></th>\n",
       "      <th>inflation_rate</th>\n",
       "      <th>mean_unemployment</th>\n",
       "      <th>expected_inflation</th>\n",
       "    </tr>\n",
       "    <tr>\n",
       "      <th>year</th>\n",
       "      <th></th>\n",
       "      <th></th>\n",
       "      <th></th>\n",
       "    </tr>\n",
       "  </thead>\n",
       "  <tbody>\n",
       "    <tr>\n",
       "      <th>1948-12-31</th>\n",
       "      <td>0.016878</td>\n",
       "      <td>0.037500</td>\n",
       "      <td>0.088372</td>\n",
       "    </tr>\n",
       "    <tr>\n",
       "      <th>1949-12-31</th>\n",
       "      <td>-0.016667</td>\n",
       "      <td>0.060500</td>\n",
       "      <td>0.016878</td>\n",
       "    </tr>\n",
       "    <tr>\n",
       "      <th>1950-12-31</th>\n",
       "      <td>0.063830</td>\n",
       "      <td>0.052083</td>\n",
       "      <td>-0.016667</td>\n",
       "    </tr>\n",
       "    <tr>\n",
       "      <th>1951-12-31</th>\n",
       "      <td>0.043307</td>\n",
       "      <td>0.032833</td>\n",
       "      <td>0.063830</td>\n",
       "    </tr>\n",
       "    <tr>\n",
       "      <th>1952-12-31</th>\n",
       "      <td>0.007547</td>\n",
       "      <td>0.030250</td>\n",
       "      <td>0.043307</td>\n",
       "    </tr>\n",
       "    <tr>\n",
       "      <th>...</th>\n",
       "      <td>...</td>\n",
       "      <td>...</td>\n",
       "      <td>...</td>\n",
       "    </tr>\n",
       "    <tr>\n",
       "      <th>2015-12-31</th>\n",
       "      <td>0.012058</td>\n",
       "      <td>0.052750</td>\n",
       "      <td>0.025000</td>\n",
       "    </tr>\n",
       "    <tr>\n",
       "      <th>2016-12-31</th>\n",
       "      <td>0.019062</td>\n",
       "      <td>0.048750</td>\n",
       "      <td>0.025000</td>\n",
       "    </tr>\n",
       "    <tr>\n",
       "      <th>2017-12-31</th>\n",
       "      <td>0.015175</td>\n",
       "      <td>0.043417</td>\n",
       "      <td>0.026000</td>\n",
       "    </tr>\n",
       "    <tr>\n",
       "      <th>2018-12-31</th>\n",
       "      <td>0.013580</td>\n",
       "      <td>0.038917</td>\n",
       "      <td>0.027000</td>\n",
       "    </tr>\n",
       "    <tr>\n",
       "      <th>2019-12-31</th>\n",
       "      <td>0.020905</td>\n",
       "      <td>0.036667</td>\n",
       "      <td>0.027000</td>\n",
       "    </tr>\n",
       "  </tbody>\n",
       "</table>\n",
       "<p>72 rows × 3 columns</p>\n",
       "</div>"
      ],
      "text/plain": [
       "            inflation_rate  mean_unemployment  expected_inflation\n",
       "year                                                             \n",
       "1948-12-31        0.016878           0.037500            0.088372\n",
       "1949-12-31       -0.016667           0.060500            0.016878\n",
       "1950-12-31        0.063830           0.052083           -0.016667\n",
       "1951-12-31        0.043307           0.032833            0.063830\n",
       "1952-12-31        0.007547           0.030250            0.043307\n",
       "...                    ...                ...                 ...\n",
       "2015-12-31        0.012058           0.052750            0.025000\n",
       "2016-12-31        0.019062           0.048750            0.025000\n",
       "2017-12-31        0.015175           0.043417            0.026000\n",
       "2018-12-31        0.013580           0.038917            0.027000\n",
       "2019-12-31        0.020905           0.036667            0.027000\n",
       "\n",
       "[72 rows x 3 columns]"
      ]
     },
     "execution_count": 144,
     "metadata": {},
     "output_type": "execute_result"
    }
   ],
   "source": [
    "dataset = pd.concat(\n",
    "    [inflation_rate, mean_unemployment, expected_inflation.resample(\"YE\").ffill()], \n",
    "    axis=\"columns\", \n",
    "    join=\"inner\"\n",
    ")\n",
    "dataset.index.name = \"year\"\n",
    "dataset"
   ]
  },
  {
   "cell_type": "code",
   "execution_count": 145,
   "id": "f2db64e5-646c-4327-9aa2-518aeb41265f",
   "metadata": {},
   "outputs": [],
   "source": [
    "dataset.to_csv(\"dataset.csv\")"
   ]
  }
 ],
 "metadata": {
  "kernelspec": {
   "display_name": "Python 3 (ipykernel)",
   "language": "python",
   "name": "python3"
  },
  "language_info": {
   "codemirror_mode": {
    "name": "ipython",
    "version": 3
   },
   "file_extension": ".py",
   "mimetype": "text/x-python",
   "name": "python",
   "nbconvert_exporter": "python",
   "pygments_lexer": "ipython3",
   "version": "3.13.2"
  }
 },
 "nbformat": 4,
 "nbformat_minor": 5
}
