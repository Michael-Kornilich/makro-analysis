{
 "cells": [
  {
   "cell_type": "code",
   "execution_count": null,
   "id": "f0a5b23c-23bc-4f9d-9e97-ca556282aac6",
   "metadata": {},
   "outputs": [],
   "source": [
    "import pandas as pd\n",
    "import numpy as np\n",
    "from pathlib import Path\n",
    "import sys\n",
    "from datetime import date"
   ]
  },
  {
   "cell_type": "code",
   "execution_count": null,
   "id": "6709fe75-462c-46c2-ba30-bdd2ffa3a959",
   "metadata": {},
   "outputs": [],
   "source": [
    "base_args = set(dir())"
   ]
  },
  {
   "cell_type": "code",
   "execution_count": null,
   "id": "6a76f72e-7cbc-4f05-8556-00ecd5ab4d94",
   "metadata": {},
   "outputs": [],
   "source": [
    "# source: https://data.bls.gov/pdq/SurveyOutputServlet\n",
    "# monthly unemployment rate\n",
    "raw_unemployment_data = pd.read_csv(Path(\"raw_data/USUnemployment.csv\"), index_col=\"Year\")\n",
    "\n",
    "first_year = raw_unemployment_data.index[0]\n",
    "last_year = raw_unemployment_data.index[-1]\n",
    "\n",
    "mean_unemployment = pd.Series(\n",
    "    (raw_unemployment_data.mean(axis=\"columns\") / 100).array,\n",
    "    name = \"mean_unemployment\",\n",
    "    index = pd.date_range(start=date(year=first_year,month=12,day=31), end=date(year=last_year,month=12,day=31), freq=\"YE\")\n",
    ")\n",
    "\n",
    "mean_unemployment.head()"
   ]
  },
  {
   "cell_type": "code",
   "execution_count": null,
   "id": "fb285af4-e071-4439-ba64-6e10bb12e0a8",
   "metadata": {},
   "outputs": [],
   "source": [
    "# source: https://fred.stlouisfed.org/series/CPIAUCNS \n",
    "# monthly CPI\n",
    "raw_inflation_data = pd.read_csv(\n",
    "    Path(\"raw_data/CPIAUCNS.csv\"), \n",
    "    parse_dates=[\"observation_date\"], \n",
    "    date_format=\"%Y-%m-%d\",\n",
    "    index_col=\"observation_date\"\n",
    ").squeeze()\n",
    "\n",
    "\n",
    "inflation_rate = (\n",
    "    raw_inflation_data\n",
    "    .resample(\"YE\")\n",
    "    .apply(lambda x: x.iat[-1] / x.iat[0] - 1)\n",
    ")\n",
    "\n",
    "inflation_rate.name = \"inflation_rate\"\n",
    "inflation_rate.head()"
   ]
  },
  {
   "cell_type": "code",
   "execution_count": null,
   "id": "f4318afd-8209-4cd2-9071-c47cc9da23cf",
   "metadata": {},
   "outputs": [],
   "source": [
    "#The reason why the Phillips-curve was stable up until 1970 are the stable inflation expectations. \n",
    "#Considering that people are neither dump nor blind it is safe to assume that the inflation expectations from 1900 to 1970 were the mean of the inflation in the said time period\n",
    "\n",
    "# https://fred.stlouisfed.org/series/MICH\n",
    "# Median expected price change next 12 months, Surveys of Consumers.\n",
    "raw_inflation_expectations = pd.read_csv(\n",
    "    Path(\"raw_data/michigan_inflation_expectations.csv\"),\n",
    "    parse_dates=[\"observation_date\"],\n",
    "    date_format=\"%Y-%m-%d\",\n",
    "    index_col=\"observation_date\"\n",
    ").squeeze()\n",
    "\n",
    "expected_inflation = pd.Series(\n",
    "    (raw_inflation_expectations / 100), \n",
    "    name=\"expected_inflation\",\n",
    "    index=pd.date_range(start=\"1913-01-01\", end=\"2024-12-31\", freq=\"YS\")\n",
    ")\n",
    "\n",
    "# expected inflation for the current year as a mean of the expectations in the first 3 months of the year\n",
    "expected_inflation = expected_inflation.resample(\"YS\").apply(lambda x: x.loc[x.index.month<4].mean())\n",
    "\n",
    "# TODO: figure out the actual expectations\n",
    "# assumption: the inflation expectation for the next year is the mean inflation in the previous year\n",
    "day = pd.tseries.offsets.DateOffset(1)\n",
    "expected_inflation_before_1978 = pd.Series(inflation_rate.array, inflation_rate.index + day).loc[:\"1977-01-01\"]\n",
    "expected_inflation = expected_inflation.fillna(value=expected_inflation_before_1978).dropna()\n",
    "expected_inflation.head()"
   ]
  },
  {
   "cell_type": "code",
   "execution_count": null,
   "id": "f48ec415-f8fc-4962-8af7-d3f85561bfd8",
   "metadata": {},
   "outputs": [],
   "source": [
    "dataset = pd.concat(\n",
    "    [inflation_rate, mean_unemployment, expected_inflation.resample(\"YE\").ffill()], \n",
    "    axis=\"columns\", \n",
    "    join=\"inner\"\n",
    ").round(5)\n",
    "dataset.index.name = \"year\"\n",
    "print(\"Dataset:\")\n",
    "print(dataset.head())"
   ]
  },
  {
   "cell_type": "code",
   "execution_count": null,
   "id": "28fd6226-6c43-4224-86d1-cbe669535c09",
   "metadata": {},
   "outputs": [],
   "source": [
    "# cleaning up the namespace\n",
    "if save_csv: dataset.to_csv(\"dataset.csv\")\n",
    "\n",
    "args_to_del = set(dir()) - base_args\n",
    "args_to_del.remove(\"dataset\")\n",
    "for item in args_to_del:\n",
    "    del item"
   ]
  }
 ],
 "metadata": {
  "kernelspec": {
   "display_name": "Python 3 (ipykernel)",
   "language": "python",
   "name": "python3"
  },
  "language_info": {
   "codemirror_mode": {
    "name": "ipython",
    "version": 3
   },
   "file_extension": ".py",
   "mimetype": "text/x-python",
   "name": "python",
   "nbconvert_exporter": "python",
   "pygments_lexer": "ipython3",
   "version": "3.13.2"
  }
 },
 "nbformat": 4,
 "nbformat_minor": 5
}
