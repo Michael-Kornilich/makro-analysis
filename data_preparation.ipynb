{
 "cells": [
  {
   "cell_type": "code",
   "execution_count": 1,
   "id": "3d904f20-c738-4b18-a4d9-975f4c4f2d5a",
   "metadata": {},
   "outputs": [],
   "source": [
    "import pandas as pd\n",
    "import numpy as np"
   ]
  },
  {
   "cell_type": "code",
   "execution_count": 2,
   "id": "6a76f72e-7cbc-4f05-8556-00ecd5ab4d94",
   "metadata": {},
   "outputs": [],
   "source": [
    "# source: https://data.bls.gov/pdq/SurveyOutputServlet\n",
    "# monthly unemployment rate\n",
    "raw_unemployment_data = pd.read_csv(\"USUnemployment.csv\", index_col=\"Year\")\n",
    "\n",
    "mean_unemployment = (raw_unemployment_data.mean(axis=\"columns\") / 100).round(4)\n",
    "mean_unemployment.name = \"mean_unemployment\""
   ]
  },
  {
   "cell_type": "code",
   "execution_count": 3,
   "id": "fb285af4-e071-4439-ba64-6e10bb12e0a8",
   "metadata": {},
   "outputs": [],
   "source": [
    "# source: https://fred.stlouisfed.org/series/CPIAUCNS \n",
    "# monthly CPI\n",
    "raw_inflation_data = pd.read_csv(\n",
    "    \"CPIAUCNS.csv\", \n",
    "    parse_dates=[\"observation_date\"], \n",
    "    date_format=\"%Y-%m-%d\",\n",
    "    index_col=\"observation_date\"\n",
    ")\n",
    "\n",
    "\n",
    "inflation_rate = (\n",
    "    raw_inflation_data[\"CPIAUCNS\"]\n",
    "    .groupby(raw_inflation_data.index.year)\n",
    "    .apply(lambda x: x.iat[-1] / x.iat[0] - 1)\n",
    ")\n",
    "\n",
    "inflation_rate.name = \"inflation_rate\""
   ]
  },
  {
   "cell_type": "code",
   "execution_count": 4,
   "id": "f4318afd-8209-4cd2-9071-c47cc9da23cf",
   "metadata": {},
   "outputs": [],
   "source": [
    "#The reason why the Phillips-curve was stable up until 1970 are the stable inflation expectations. \n",
    "#Considering that people are neither dump nor blind it is safe to assume that the inflation expectations from 1900 to 1970 were the mean of the inflation in the said time period\n",
    "\n",
    "# https://fred.stlouisfed.org/series/MICH\n",
    "# Median expected price change next 12 months, Surveys of Consumers.\n",
    "raw_inflation_expectations = pd.read_csv(\n",
    "    \"michigan_inflation_expectations.csv\",\n",
    "    parse_dates=[\"observation_date\"],\n",
    "    date_format=\"%Y-%m-%d\",\n",
    "    index_col=\"observation_date\"\n",
    ")\n",
    "\n",
    "\n",
    "mean_inflation_until_1970 = inflation_rate.loc[:1970].mean().round(5)\n",
    "expected_inflation_until_1970 = pd.Series([mean_inflation_until_1970]*70, index=range(1900,1970))\n",
    "\n",
    "expected_inflation_after_1977 = pd.Series()\n",
    "for year, expectations in raw_inflation_expectations[\"MICH\"].groupby(raw_inflation_expectations.index.year):\n",
    "    expected_inflation_after_1977[year] = expectations.iat[0].round(4) / 100\n",
    "\n",
    "\n",
    "expected_inflation = pd.concat([expected_inflation_until_1970, expected_inflation_after_1977])\n",
    "expected_inflation = expected_inflation.reindex(range(1900,2025))\n",
    "expected_inflation.name = \"expected_inflation\""
   ]
  },
  {
   "cell_type": "code",
   "execution_count": 5,
   "id": "f48ec415-f8fc-4962-8af7-d3f85561bfd8",
   "metadata": {},
   "outputs": [],
   "source": [
    "LIMITING_QUANTILE = 1\n",
    "dataset = pd.concat([inflation_rate, mean_unemployment, expected_inflation], axis=\"columns\", join=\"inner\")\n",
    "quantile = dataset.quantile(LIMITING_QUANTILE)\n",
    "\n",
    "dataset.loc[dataset[\"inflation_rate\"]>quantile[\"inflation_rate\"], \"inflation_rate\"] = np.nan\n",
    "dataset.loc[dataset[\"mean_unemployment\"]>quantile[\"mean_unemployment\"], \"mean_unemployment\"] = np.nan\n",
    "dataset.loc[dataset[\"expected_inflation\"]>quantile[\"expected_inflation\"], \"expected_inflation\"] = np.nan"
   ]
  },
  {
   "cell_type": "code",
   "execution_count": 13,
   "id": "f2db64e5-646c-4327-9aa2-518aeb41265f",
   "metadata": {},
   "outputs": [],
   "source": [
    "dataset.to_csv(\"dataset.csv\")"
   ]
  }
 ],
 "metadata": {
  "kernelspec": {
   "display_name": "Python 3 (ipykernel)",
   "language": "python",
   "name": "python3"
  },
  "language_info": {
   "codemirror_mode": {
    "name": "ipython",
    "version": 3
   },
   "file_extension": ".py",
   "mimetype": "text/x-python",
   "name": "python",
   "nbconvert_exporter": "python",
   "pygments_lexer": "ipython3",
   "version": "3.12.4"
  }
 },
 "nbformat": 4,
 "nbformat_minor": 5
}
