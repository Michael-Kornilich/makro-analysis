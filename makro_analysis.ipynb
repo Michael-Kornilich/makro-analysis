{
 "cells": [
  {
   "cell_type": "markdown",
   "id": "6b500153-f258-4b96-a805-860dccee7f45",
   "metadata": {},
   "source": [
    "**TODO:**\n",
    "- **Critical:** dive into inflation expectations in the first half of 20th century (golden standard?)\n",
    "- Test on data of different countries"
   ]
  },
  {
   "cell_type": "code",
   "execution_count": 2,
   "id": "3d904f20-c738-4b18-a4d9-975f4c4f2d5a",
   "metadata": {},
   "outputs": [],
   "source": [
    "import pandas as pd\n",
    "import numpy as np\n",
    "import matplotlib.pyplot as plt\n",
    "from sklearn.linear_model import LinearRegression\n",
    "from scipy.optimize import curve_fit\n",
    "from typing import Sequence\n",
    "import patsy\n",
    "\n",
    "np.set_printoptions(suppress=True)\n",
    "\n",
    "#%matplotlib widget"
   ]
  },
  {
   "cell_type": "code",
   "execution_count": 3,
   "id": "72b23069-12bc-44d4-af35-e142a1c213eb",
   "metadata": {},
   "outputs": [
    {
     "data": {
      "text/html": [
       "<div>\n",
       "<style scoped>\n",
       "    .dataframe tbody tr th:only-of-type {\n",
       "        vertical-align: middle;\n",
       "    }\n",
       "\n",
       "    .dataframe tbody tr th {\n",
       "        vertical-align: top;\n",
       "    }\n",
       "\n",
       "    .dataframe thead th {\n",
       "        text-align: right;\n",
       "    }\n",
       "</style>\n",
       "<table border=\"1\" class=\"dataframe\">\n",
       "  <thead>\n",
       "    <tr style=\"text-align: right;\">\n",
       "      <th></th>\n",
       "      <th>inflation_rate</th>\n",
       "      <th>mean_unemployment</th>\n",
       "      <th>expected_inflation</th>\n",
       "    </tr>\n",
       "    <tr>\n",
       "      <th>year</th>\n",
       "      <th></th>\n",
       "      <th></th>\n",
       "      <th></th>\n",
       "    </tr>\n",
       "  </thead>\n",
       "  <tbody>\n",
       "    <tr>\n",
       "      <th>1948-12-31</th>\n",
       "      <td>0.016878</td>\n",
       "      <td>0.037500</td>\n",
       "      <td>0.088372</td>\n",
       "    </tr>\n",
       "    <tr>\n",
       "      <th>1949-12-31</th>\n",
       "      <td>-0.016667</td>\n",
       "      <td>0.060500</td>\n",
       "      <td>0.016878</td>\n",
       "    </tr>\n",
       "    <tr>\n",
       "      <th>1950-12-31</th>\n",
       "      <td>0.063830</td>\n",
       "      <td>0.052083</td>\n",
       "      <td>-0.016667</td>\n",
       "    </tr>\n",
       "    <tr>\n",
       "      <th>1951-12-31</th>\n",
       "      <td>0.043307</td>\n",
       "      <td>0.032833</td>\n",
       "      <td>0.063830</td>\n",
       "    </tr>\n",
       "    <tr>\n",
       "      <th>1952-12-31</th>\n",
       "      <td>0.007547</td>\n",
       "      <td>0.030250</td>\n",
       "      <td>0.043307</td>\n",
       "    </tr>\n",
       "  </tbody>\n",
       "</table>\n",
       "</div>"
      ],
      "text/plain": [
       "            inflation_rate  mean_unemployment  expected_inflation\n",
       "year                                                             \n",
       "1948-12-31        0.016878           0.037500            0.088372\n",
       "1949-12-31       -0.016667           0.060500            0.016878\n",
       "1950-12-31        0.063830           0.052083           -0.016667\n",
       "1951-12-31        0.043307           0.032833            0.063830\n",
       "1952-12-31        0.007547           0.030250            0.043307"
      ]
     },
     "execution_count": 3,
     "metadata": {},
     "output_type": "execute_result"
    }
   ],
   "source": [
    "dataset = pd.read_csv(\"dataset.csv\",index_col=\"year\")\n",
    "dataset.head()"
   ]
  },
  {
   "cell_type": "markdown",
   "id": "b4ad4209-aa78-4715-800d-91ef1b172b32",
   "metadata": {},
   "source": [
    "**Developing a model to describe the phenomenon**"
   ]
  },
  {
   "cell_type": "code",
   "execution_count": 12,
   "id": "1c813320-b3ea-40a5-88dd-0cae72338057",
   "metadata": {},
   "outputs": [],
   "source": [
    "y, X = patsy.dmatrices(\"inflation_rate ~ mean_unemployment + expected_inflation + 0\", dataset)"
   ]
  },
  {
   "cell_type": "markdown",
   "id": "5d9fa664-a965-4260-a936-83d2b5410d83",
   "metadata": {},
   "source": [
    "Linear regeression"
   ]
  },
  {
   "cell_type": "code",
   "execution_count": 25,
   "id": "d9813351-4aa2-4c8e-bde5-b91b8f9c42a6",
   "metadata": {},
   "outputs": [
    {
     "name": "stdout",
     "output_type": "stream",
     "text": [
      "Coefficients:\n",
      "mean_unemployment    -0.079073\n",
      "expected_inflation    0.742149\n",
      "dtype: float64\n",
      "\n",
      "R-square: 0.405\n"
     ]
    }
   ],
   "source": [
    "model = LinearRegression()\n",
    "results = model.fit(X,y)\n",
    "coefs = results.coef_.squeeze()\n",
    "intercept = results.intercept_\n",
    "\n",
    "print(f\"Coefficients:\")\n",
    "print(pd.Series(coefs,index=X.design_info.column_names))\n",
    "print(f\"\\nR-square: {round(model.score(X,y),4)}\")"
   ]
  },
  {
   "cell_type": "markdown",
   "id": "caafd7e8-562f-4430-89f6-4476b8b20389",
   "metadata": {},
   "source": [
    "Non linear curve (a*y)/(b*x) + c"
   ]
  },
  {
   "cell_type": "code",
   "execution_count": null,
   "id": "64671062-b9d8-4397-8b29-51f4a5e2568f",
   "metadata": {},
   "outputs": [],
   "source": [
    "# TODO\n",
    "def curve_func(X, a, b):\n",
    "    x, y = X\n",
    "    return a*(y/x) + b\n",
    "\n",
    "popt, pcov = curve_fit(curve_func, X, y, p0=[1,0])\n",
    "\n",
    "print(\"Coefficients: \" + str(popt))\n",
    "print(\"R^2 = \" + str(r_squared(curve_func, X, y, *popt)))"
   ]
  },
  {
   "cell_type": "code",
   "execution_count": null,
   "id": "c182336f-bea7-4923-a198-e79e7bd5dd45",
   "metadata": {},
   "outputs": [],
   "source": [
    "# plotting the data points and the fitted curve\n",
    "fig = plt.figure(clear=True)\n",
    "ax = fig.add_subplot(projection='3d')\n",
    "fontdict = {\n",
    "    \"fontweight\":\"bold\",\n",
    "    \"size\":5,\n",
    "    \"fontvariant\":\"normal\"\n",
    "}\n",
    "\n",
    "ax.view_init(25, -140, 0)\n",
    "ax.scatter(xs=dataset[\"mean_unemployment\"], ys=dataset[\"expected_inflation\"], zs=dataset[\"inflation_rate\"], s=4, alpha=1)\n",
    "\n",
    "# Figure\n",
    "fig.set_label(\"Fitted unemployment, expected inflation and the actual inflation\")\n",
    "\n",
    "# X-axis\n",
    "ax.set_xlabel(\"Mean Unemployment (X)\",fontdict=fontdict)\n",
    "ax.tick_params(axis=\"x\",labelsize=7)\n",
    "\n",
    "# Y-axis\n",
    "ax.set_ylabel(\"Expected Inflation Rate (Y)\",fontdict=fontdict);\n",
    "ax.tick_params(axis=\"y\",labelsize=7)\n",
    "\n",
    "# Z-axis\n",
    "ax.set_zlabel(\"Actual Inflation Rate (Z)\",fontdict=fontdict)\n",
    "ax.tick_params(axis=\"z\",labelsize=7)\n",
    "\n",
    "# plotting the function\n",
    "x_range = np.linspace(dataset[\"mean_unemployment\"].min(), dataset[\"mean_unemployment\"].max(), num=100)\n",
    "y_range = np.linspace(dataset[\"expected_inflation\"].min(), dataset[\"expected_inflation\"].max(), num=100) \n",
    "xx, yy = np.meshgrid(x_range, y_range)\n",
    "zz = curve_func((xx, yy), *popt)\n",
    "ax.plot_surface(xx, yy, zz, color='green', alpha=0.5);"
   ]
  }
 ],
 "metadata": {
  "kernelspec": {
   "display_name": "Python 3 (ipykernel)",
   "language": "python",
   "name": "python3"
  },
  "language_info": {
   "codemirror_mode": {
    "name": "ipython",
    "version": 3
   },
   "file_extension": ".py",
   "mimetype": "text/x-python",
   "name": "python",
   "nbconvert_exporter": "python",
   "pygments_lexer": "ipython3",
   "version": "3.13.2"
  }
 },
 "nbformat": 4,
 "nbformat_minor": 5
}
